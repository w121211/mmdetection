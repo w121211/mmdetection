{
 "cells": [
  {
   "cell_type": "code",
   "execution_count": 18,
   "metadata": {},
   "outputs": [
    {
     "name": "stdout",
     "output_type": "stream",
     "text": [
      "Collecting Faker\n",
      "\u001b[?25l  Downloading https://files.pythonhosted.org/packages/bf/5a/44c04abc182990d716eb7703502aa851433ea66569bd72765ef1abdaea9c/Faker-2.0.2-py2.py3-none-any.whl (879kB)\n",
      "\u001b[K     |################################| 880kB 714kB/s eta 0:00:01     |####################            | 552kB 714kB/s eta 0:00:01     |##############################  | 839kB 714kB/s eta 0:00:01\n",
      "\u001b[?25hRequirement already satisfied: six>=1.10 in /opt/conda/lib/python3.6/site-packages (from Faker) (1.12.0)\n",
      "Collecting text-unidecode==1.3 (from Faker)\n",
      "\u001b[?25l  Downloading https://files.pythonhosted.org/packages/a6/a5/c0b6468d3824fe3fde30dbb5e1f687b291608f9473681bbf7dabbf5a87d7/text_unidecode-1.3-py2.py3-none-any.whl (78kB)\n",
      "\u001b[K     |################################| 81kB 9.1MB/s  eta 0:00:01\n",
      "\u001b[?25hRequirement already satisfied: python-dateutil>=2.4 in /opt/conda/lib/python3.6/site-packages (from Faker) (2.8.0)\n",
      "Installing collected packages: text-unidecode, Faker\n",
      "Successfully installed Faker-2.0.2 text-unidecode-1.3\n"
     ]
    }
   ],
   "source": [
    "# !apt-get update && apt-get install -y libglib2.0-0 libsm6 libxrender-dev libxext6 && apt-get clean && rm -rf /var/lib/apt/lists/*\n",
    "# !conda install -y cython && conda clean -y --all\n",
    "# %cd /workspace/mmdetection\n",
    "# !pip install --no-cache-dir -e .\n",
    "# !pip install Faker git+https://github.com/waspinator/pycococreator.git"
   ]
  },
  {
   "cell_type": "code",
   "execution_count": 22,
   "metadata": {},
   "outputs": [
    {
     "name": "stdout",
     "output_type": "stream",
     "text": [
      "/workspace/mmdetection/my_tools/generator\n"
     ]
    }
   ],
   "source": [
    "%cd /workspace/mmdetection/my_tools/generator\n",
    "!rm -R /workspace/mmdetection/my_dataset/train\n",
    "!python main.py --imsize=256 --n_samples=5"
   ]
  },
  {
   "cell_type": "code",
   "execution_count": 23,
   "metadata": {},
   "outputs": [
    {
     "name": "stdout",
     "output_type": "stream",
     "text": [
      "/workspace/mmdetection\n",
      "/workspace/mmdetection/my_dataset/train/images/4.png\n",
      "/workspace/mmdetection/my_dataset/train/images/2.png\n",
      "/workspace/mmdetection/my_dataset/train/images/3.png\n",
      "/workspace/mmdetection/my_dataset/train/images/1.png\n",
      "/workspace/mmdetection/my_dataset/train/images/0.png\n"
     ]
    }
   ],
   "source": [
    "%cd /workspace/mmdetection\n",
    "!python my_tools/convert_dataset.py"
   ]
  },
  {
   "cell_type": "code",
   "execution_count": 14,
   "metadata": {},
   "outputs": [
    {
     "name": "stdout",
     "output_type": "stream",
     "text": [
      "/workspace/mmdetection\n",
      "2019-09-28 04:25:28,779 - INFO - Distributed training: False\n",
      "2019-09-28 04:25:30,821 - INFO - load model from: torchvision://resnet50\n",
      "2019-09-28 04:25:34,474 - WARNING - The model and loaded state dict do not match exactly\n",
      "\n",
      "unexpected key in source state_dict: fc.weight, fc.bias\n",
      "\n",
      "loading annotations into memory...\n",
      "Done (t=0.06s)\n",
      "creating index...\n",
      "index created!\n",
      "/workspace/mmdetection/mmdet/datasets/loader/sampler.py:48: RuntimeWarning: divide by zero encountered in long_scalars\n",
      "  size / self.samples_per_gpu)) * self.samples_per_gpu\n",
      "Traceback (most recent call last):\n",
      "  File \"tools/train.py\", line 108, in <module>\n",
      "    main()\n",
      "  File \"tools/train.py\", line 104, in main\n",
      "    logger=logger)\n",
      "  File \"/workspace/mmdetection/mmdet/apis/train.py\", line 60, in train_detector\n",
      "    _non_dist_train(model, dataset, cfg, validate=validate)\n",
      "  File \"/workspace/mmdetection/mmdet/apis/train.py\", line 198, in _non_dist_train\n",
      "    dist=False) for ds in dataset\n",
      "  File \"/workspace/mmdetection/mmdet/apis/train.py\", line 198, in <listcomp>\n",
      "    dist=False) for ds in dataset\n",
      "  File \"/workspace/mmdetection/mmdet/datasets/loader/build_loader.py\", line 35, in build_dataloader\n",
      "    sampler = GroupSampler(dataset, imgs_per_gpu) if shuffle else None\n",
      "  File \"/workspace/mmdetection/mmdet/datasets/loader/sampler.py\", line 48, in __init__\n",
      "    size / self.samples_per_gpu)) * self.samples_per_gpu\n",
      "OverflowError: cannot convert float infinity to integer\n"
     ]
    }
   ],
   "source": [
    "%cd /workspace/mmdetection\n",
    "!python tools/train.py \"my_configs/mask_rcnn_r50_fpn_1x.py\""
   ]
  }
 ],
 "metadata": {
  "kernelspec": {
   "display_name": "Python 3",
   "language": "python",
   "name": "python3"
  },
  "language_info": {
   "codemirror_mode": {
    "name": "ipython",
    "version": 3
   },
   "file_extension": ".py",
   "mimetype": "text/x-python",
   "name": "python",
   "nbconvert_exporter": "python",
   "pygments_lexer": "ipython3",
   "version": "3.6.9"
  }
 },
 "nbformat": 4,
 "nbformat_minor": 2
}
